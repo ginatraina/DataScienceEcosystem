{
 "cells": [
  {
   "cell_type": "markdown",
   "id": "5fa1dcd0-90e2-4db2-912e-08ae8e2fa700",
   "metadata": {},
   "source": [
    "# Data Science Tools and Ecosystem "
   ]
  },
  {
   "cell_type": "markdown",
   "id": "d1c664fe-b11a-4bcd-ac3d-9d0e39db2214",
   "metadata": {},
   "source": [
    "## Author\n",
    "Gina Traina"
   ]
  },
  {
   "cell_type": "markdown",
   "id": "0c428923-0306-418e-b696-e82876ff60a4",
   "metadata": {},
   "source": [
    "In this notebook, Data Science Tools and Ecosystem are summarized for your enjoyment. Enjoy!"
   ]
  },
  {
   "cell_type": "markdown",
   "id": "b867ebe9-7c9b-4b1b-acd2-8853392537d4",
   "metadata": {},
   "source": [
    "**Objectives:**\n",
    "* Popular languages used in Data Science\n",
    "* Commonly used libraries for Data Scientists\n",
    "* Data science tools\n",
    "* Arithmetic expressions examples in Python"
   ]
  },
  {
   "cell_type": "markdown",
   "id": "5267a78f-2793-42b1-92a9-6778d1d50d6a",
   "metadata": {},
   "source": [
    "Some of the popular languages that Data Scientists use are:\n",
    "1. Python\n",
    "2. SQL\n",
    "3. R\n",
    "4. Scala\n",
    "5. Julia"
   ]
  },
  {
   "cell_type": "markdown",
   "id": "1c9d07ab-3542-4d61-b6f0-ec38bce451d5",
   "metadata": {},
   "source": [
    "Some of the commonly used libraries used by Data Scientists include:\n",
    "1. NumPy\n",
    "2. Pandas\n",
    "3. Seaborn\n",
    "4. Matplotlib\n",
    "5. TensorFlow"
   ]
  },
  {
   "cell_type": "markdown",
   "id": "fdd6474a-2979-4687-a24e-ec4ebfe0ebc4",
   "metadata": {},
   "source": [
    "| Data Science Tools |\n",
    "|--------------------|\n",
    "| Jupyter Notebook   |\n",
    "| Apache Zeppelin    |\n",
    "| R Studio |"
   ]
  },
  {
   "cell_type": "markdown",
   "id": "625db0a6-e8cd-427a-be55-a2061bacaf0d",
   "metadata": {},
   "source": [
    "### I have for you below a few examples of evaluating arithmetic expressions in Python"
   ]
  },
  {
   "cell_type": "code",
   "execution_count": 1,
   "id": "18ade22f-0623-4d2a-8564-d2abd45e4840",
   "metadata": {},
   "outputs": [
    {
     "data": {
      "text/plain": [
       "17"
      ]
     },
     "execution_count": 1,
     "metadata": {},
     "output_type": "execute_result"
    }
   ],
   "source": [
    "# This a simple arithmetic expression to mutiply then add integers\n",
    "\n",
    "(3*4)+5"
   ]
  },
  {
   "cell_type": "code",
   "execution_count": 4,
   "id": "ce6ec63d-c829-46b6-8399-79c5b852bf7f",
   "metadata": {},
   "outputs": [
    {
     "name": "stdout",
     "output_type": "stream",
     "text": [
      "3.3333333333333335\n"
     ]
    }
   ],
   "source": [
    "# This will convert 200 minutes to hours by diving by 60\n",
    "minutes = 200\n",
    "hours = minutes / 60\n",
    "print(hours)"
   ]
  }
 ],
 "metadata": {
  "kernelspec": {
   "display_name": "Python",
   "language": "python",
   "name": "conda-env-python-py"
  },
  "language_info": {
   "codemirror_mode": {
    "name": "ipython",
    "version": 3
   },
   "file_extension": ".py",
   "mimetype": "text/x-python",
   "name": "python",
   "nbconvert_exporter": "python",
   "pygments_lexer": "ipython3",
   "version": "3.7.12"
  }
 },
 "nbformat": 4,
 "nbformat_minor": 5
}
